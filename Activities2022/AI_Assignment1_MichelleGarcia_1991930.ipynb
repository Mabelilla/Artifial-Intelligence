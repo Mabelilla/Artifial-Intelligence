{
  "nbformat": 4,
  "nbformat_minor": 0,
  "metadata": {
    "colab": {
      "provenance": [],
      "authorship_tag": "ABX9TyMPgPXTlG+fc6xnxuG+CTRZ",
      "include_colab_link": true
    },
    "kernelspec": {
      "name": "python3",
      "display_name": "Python 3"
    },
    "language_info": {
      "name": "python"
    }
  },
  "cells": [
    {
      "cell_type": "markdown",
      "metadata": {
        "id": "view-in-github",
        "colab_type": "text"
      },
      "source": [
        "<a href=\"https://colab.research.google.com/github/Mabelilla/Artifial-Intelligence/blob/main/AI_Assignment1_MichelleGarcia_1991930.ipynb\" target=\"_parent\"><img src=\"https://colab.research.google.com/assets/colab-badge.svg\" alt=\"Open In Colab\"/></a>"
      ]
    },
    {
      "cell_type": "markdown",
      "source": [
        "**A2: Python exercises.**\n",
        "\n",
        "Michelle Mabelle García Zarazúa\n",
        "\n",
        "ID: 1991930\n",
        "\n",
        "Artificial Intelligence, Tuesday N4"
      ],
      "metadata": {
        "id": "F_wNfGv-CzaL"
      }
    },
    {
      "cell_type": "markdown",
      "source": [
        "Excercise 1. Create a python script where the user is going to be asked for the name. After that, the program will greet the user with the given name. Only exception: the script will not greet the user if the given name is \"Ana\", \"John\" or \"Peter\"."
      ],
      "metadata": {
        "id": "Xas1dsACQjX7"
      }
    },
    {
      "cell_type": "code",
      "source": [
        "name = input(\"What's your name: \")\n",
        "if name == \"Ana\" or name == \"John\" or name == \"Peter\":\n",
        "  print(\"Sorry, you are not welcome.\")\n",
        "else:\n",
        "  print(\"Nice to meet you, \" + name)"
      ],
      "metadata": {
        "colab": {
          "base_uri": "https://localhost:8080/"
        },
        "id": "j3vHKX8JAv0j",
        "outputId": "f4f87644-b15f-4b0d-ed6d-af888e9825b3"
      },
      "execution_count": 76,
      "outputs": [
        {
          "output_type": "stream",
          "name": "stdout",
          "text": [
            "What's your name: Ana\n",
            "Sorry, you are not welcome.\n"
          ]
        }
      ]
    },
    {
      "cell_type": "markdown",
      "source": [
        "Excercise 2. Create a function in a pyhton script that returns (print) the last element of a given list, reverts the order of the list and finally returns (print) the reverted list. "
      ],
      "metadata": {
        "id": "f6Q6jGhZQqHg"
      }
    },
    {
      "cell_type": "code",
      "source": [
        "List = [1, 2, 3, 4, 5]\n",
        "print(List[4])\n",
        "List.reverse()\n",
        "print(List)"
      ],
      "metadata": {
        "id": "WfKIRyAYQxAh",
        "colab": {
          "base_uri": "https://localhost:8080/"
        },
        "outputId": "50f82633-66dc-4a6c-af44-d6b2600ee852"
      },
      "execution_count": 74,
      "outputs": [
        {
          "output_type": "stream",
          "name": "stdout",
          "text": [
            "5\n",
            "[5, 4, 3, 2, 1]\n"
          ]
        }
      ]
    },
    {
      "cell_type": "markdown",
      "source": [
        "Excercise 3. Create a function in a python script that takes a list of strings as input and then it prints, line by line, the whole list in a rectangular shape. E.g., the list could be [\"Hi\", \"my\", \"name\", \"is\", \"John\", \"Doe\"] and the final result is:\n",
        "\n",
        "\n",
        "\n",
        "********** \n",
        "\n",
        "* Hi        * \n",
        "\n",
        "* my       *\n",
        "\n",
        "* name   * \n",
        "\n",
        "* is         * \n",
        "\n",
        "* John    * \n",
        "\n",
        "* Doe     *\n",
        "\n",
        "*********** "
      ],
      "metadata": {
        "id": "9TCOdMuyOgmY"
      }
    },
    {
      "cell_type": "code",
      "source": [
        "input_string = input(\"Enter the list separated by an space  \")\n",
        "list = input_string.split(\" \") #It splits the sentence by word\n",
        "\n",
        "print(\"\\n\") #To print it in a different line\n",
        "print(\"*****************\")\n",
        "for x in list: #To print the elements of the list 1 by 1\n",
        "    if len(x) <= 2:\n",
        "      print(\"*   \" + x + \"          *\")\n",
        "    if 2 < len(x) <= 4:\n",
        "      print(\"*   \" + x + \"        *\")\n",
        "    elif 4< len(x) <= 6:\n",
        "      print(\"*    \" + x + \"      *\")\n",
        "    elif 6< len(x) <= 8 :\n",
        "      print(\"*   \" + x + \"    *\")\n",
        "    elif  len(x) >8 :\n",
        "      print(\"*    \" + x + \"  *\")\n",
        "print(\"*****************\")"
      ],
      "metadata": {
        "colab": {
          "base_uri": "https://localhost:8080/"
        },
        "id": "wkcBz9oXOr4L",
        "outputId": "ff62ea90-8cab-499d-d3d2-bba745ba3f7b"
      },
      "execution_count": 78,
      "outputs": [
        {
          "output_type": "stream",
          "name": "stdout",
          "text": [
            "Enter the list separated by an space  Hello my name is Michelle\n",
            "\n",
            "\n",
            "*****************\n",
            "*    Hello      *\n",
            "*   my          *\n",
            "*   name        *\n",
            "*   is          *\n",
            "*   Michelle    *\n",
            "*****************\n"
          ]
        }
      ]
    }
  ]
}
